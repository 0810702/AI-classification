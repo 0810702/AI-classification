{
  "cells": [
    {
      "cell_type": "code",
      "execution_count": 1,
      "metadata": {
        "id": "42290dd5"
      },
      "outputs": [],
      "source": [
        "import pandas as pd\n",
        "import numpy as np\n",
        "import matplotlib.pyplot as plt\n",
        "import os\n",
        "import cv2"
      ],
      "id": "42290dd5"
    },
    {
      "cell_type": "code",
      "execution_count": 2,
      "metadata": {
        "colab": {
          "base_uri": "https://localhost:8080/"
        },
        "id": "doTZIosttolr",
        "outputId": "a4905a2a-bcaa-4d90-fe4a-2a92a787bdc2"
      },
      "outputs": [
        {
          "output_type": "stream",
          "name": "stdout",
          "text": [
            "Mounted at /content/drive\n"
          ]
        }
      ],
      "source": [
        "from google.colab import drive\n",
        "drive.mount('/content/drive')"
      ],
      "id": "doTZIosttolr"
    },
    {
      "cell_type": "code",
      "execution_count": 3,
      "metadata": {
        "id": "324cabe9"
      },
      "outputs": [],
      "source": [
        "# EMNIST\n",
        "# We use the dataset that contains handwriting character from a to h\n",
        "# Each character has 128 image as data\n",
        "# The data is load from the folder 'EMNIST'"
      ],
      "id": "324cabe9"
    },
    {
      "cell_type": "code",
      "execution_count": 4,
      "metadata": {
        "id": "2b633c50"
      },
      "outputs": [],
      "source": [
        "# first step is to load data for training and test"
      ],
      "id": "2b633c50"
    },
    {
      "cell_type": "code",
      "execution_count": 5,
      "metadata": {
        "id": "8b89463e"
      },
      "outputs": [],
      "source": [
        "# Load EMNIST image\n",
        "def Load_EMNIST(test_index, algorithm):\n",
        "    # define information about EMNIST dataset\n",
        "    number = 128\n",
        "    classes = 8\n",
        "    character_list = ['a', 'b', 'c', 'd', 'e', 'f', 'g', 'h']\n",
        "\n",
        "    # load the whole dataset\n",
        "    x_total = []\n",
        "    y_total = []\n",
        "    for i, c in enumerate(character_list):\n",
        "        for j in range(number):\n",
        "            #x_total.append(cv2.imread('./EMNIST/'+c+'/'+str(j)+'.jpg'))\n",
        "            x_total.append(cv2.imread('/content/drive/MyDrive/Colab Notebooks/AI/EMNIST/' + c + '/'+str(j) + '.jpg'))\n",
        "            y_total.append(i)\n",
        "    \n",
        "    # seperate dataset into training and test set\n",
        "    # initialize as any array\n",
        "    x_train, y_train, x_test, y_test = [], [], [], []\n",
        "    \n",
        "    # if we're not applying CNN, then flatten the image into 1D array\n",
        "    if algorithm == 0:\n",
        "        x_flatten = []\n",
        "        for i in range(len(x_total)):\n",
        "            x_flatten.append(x_total[i].flatten())\n",
        "        x_train, y_train, x_test, y_test = Seperate_Dataset(x_flatten, y_total, test_index, number, classes)\n",
        "    # CNN use 2D image\n",
        "    elif algorithm == 1: \n",
        "        x_train, y_train, x_test, y_test = Seperate_Dataset(x_total, y_total, test_index, number, classes)\n",
        "    \n",
        "    # convert list to ndarray\n",
        "    x_train = np.array(x_train)\n",
        "    y_train = np.array(y_train)\n",
        "    x_test = np.array(x_test)\n",
        "    y_test = np.array(y_test)\n",
        "\n",
        "    # normalize image by dividing 255\n",
        "    x_train = x_train / 255.0\n",
        "    x_test = x_test / 255.0\n",
        "    \n",
        "    # one-hot encoding for label\n",
        "    y_train = One_hot_encoding(y_train, classes)\n",
        "    y_test = One_hot_encoding(y_test, classes)\n",
        "    \n",
        "    return x_train, y_train, x_test, y_test"
      ],
      "id": "8b89463e"
    },
    {
      "cell_type": "code",
      "execution_count": 6,
      "metadata": {
        "id": "f583d831"
      },
      "outputs": [],
      "source": [
        "# seperate dataset into training set and test set\n",
        "def Seperate_Dataset(x_total, y_total, test_index, number, classes):\n",
        "    x_train = []\n",
        "    y_train_temp = []\n",
        "    x_test = []\n",
        "    y_test_temp = []\n",
        "    \n",
        "    # seperate dataset\n",
        "    for i in range(classes):\n",
        "        character_type = 128 * i\n",
        "        for j in range(number):\n",
        "            index = character_type + j\n",
        "            if j in test_index:\n",
        "                x_test.append(x_total[index])\n",
        "                y_test_temp.append(y_total[index])\n",
        "            else:\n",
        "                x_train.append(x_total[index])\n",
        "                y_train_temp.append(y_total[index])\n",
        "    \n",
        "    return x_train, y_train_temp, x_test, y_test_temp"
      ],
      "id": "f583d831"
    },
    {
      "cell_type": "code",
      "execution_count": 7,
      "metadata": {
        "id": "557628b2"
      },
      "outputs": [],
      "source": [
        "# one-hot encoding for label\n",
        "def One_hot_encoding(x, classes):\n",
        "    one_hot = np.zeros((x.shape[0], classes))\n",
        "    for i in range(x.shape[0]):\n",
        "        one_hot[i][x[i]] = 1\n",
        "    \n",
        "    return one_hot"
      ],
      "id": "557628b2"
    },
    {
      "cell_type": "code",
      "execution_count": 35,
      "metadata": {
        "id": "72e7d20b"
      },
      "outputs": [],
      "source": [
        "# randomly choose 32 image as training set for each character\n",
        "test_index = np.random.choice(range(128), 32, replace=False)\n",
        "\n",
        "# load data for least square, logistic regression, SVM, and FCNN\n",
        "x_train_emnist, y_train_emnist, x_test_emnist, y_test_emnist = Load_EMNIST(test_index, 0)\n",
        "\n",
        "# load data for CNN\n",
        "x_train_2d_emnist, y_train_2d_emnist, x_test_2d_emnist, y_test_2d_emnist = Load_EMNIST(test_index, 1)"
      ],
      "id": "72e7d20b"
    },
    {
      "cell_type": "code",
      "execution_count": null,
      "metadata": {
        "id": "1ed81a90"
      },
      "outputs": [],
      "source": [
        "# second step: define the training function for each algorithm"
      ],
      "id": "1ed81a90"
    },
    {
      "cell_type": "code",
      "execution_count": 30,
      "metadata": {
        "id": "2f7c1088"
      },
      "outputs": [],
      "source": [
        "# for least squares method\n",
        "class LS():\n",
        "    def __init__(self, x, y, title):\n",
        "        self.x_in, self.y, self.title = x, y, title\n",
        "    \n",
        "    # define the basis funtion for training\n",
        "    # combine the constant term 1 into design matrix\n",
        "    def Basis_for_LS(self):\n",
        "        self.x = np.ones((self.x_in.shape[0], self.x_in.shape[1]+1))\n",
        "        self.x[:,1:] = self.x_in\n",
        "    \n",
        "    # calculate closed-form W\n",
        "    def LS_closed_form(self):\n",
        "        self.W = np.linalg.pinv(np.dot(self.x.T, self.x)).dot(self.x.T).dot(self.y)\n",
        "    \n",
        "    # get weight from training data when applying testing set\n",
        "    def Training_Weight(self, W):\n",
        "        self.W = W\n",
        "    \n",
        "    # return training for testing set\n",
        "    def Get_Weight(self):\n",
        "        return self.W\n",
        "\n",
        "    # prediction by the method\n",
        "    def LS_predict(self):\n",
        "        self.y_pred = np.dot(self.x, self.W)\n",
        "\n",
        "    # loss function for LS classification\n",
        "    def LS_loss(self):\n",
        "        e = self.y_pred - self.y\n",
        "        self.loss = 0.5 * np.sum(np.diagonal(np.dot(e.T, e)))\n",
        "    \n",
        "    # estimate the predition performance\n",
        "    def Precision(self):\n",
        "        one_hot_pred = np.argmax(self.y_pred, axis=1)\n",
        "        one_hot_y = np.argmax(self.y, axis=1)\n",
        "        truth = one_hot_pred.shape[0]\n",
        "        count = truth\n",
        "        for i in range(truth):\n",
        "            if one_hot_pred[i] != one_hot_y[i]:\n",
        "                count -= 1\n",
        "        self.precision = count / truth\n",
        "    \n",
        "    # # display output value\n",
        "    def Display(self):\n",
        "        print('For '+self.title+' data : ')\n",
        "        print('\\tThe classification accuarcy = '+str(round(self.precision, 4)*100)+'%')\n",
        "        print('\\tThe classification loss     = '+str(round(self.loss / self.x.shape[0], 4)))\n",
        "    \n",
        "    # process least square method\n",
        "    def LS_Method(self):\n",
        "        # convert input to design matrix\n",
        "        self.Basis_for_LS()\n",
        "        \n",
        "        # calculate closed-form solution of weight for trainig data\n",
        "        if self.title == 'training':\n",
        "            self.LS_closed_form()\n",
        "        \n",
        "        # prediction based on the closed-form weight\n",
        "        self.LS_predict()\n",
        "        \n",
        "        # estimate prediction error\n",
        "        self.LS_loss()\n",
        "\n",
        "        # estimate the predition performance\n",
        "        self.Precision()\n",
        "        \n",
        "        # display output value\n",
        "        self.Display()"
      ],
      "id": "2f7c1088"
    },
    {
      "cell_type": "code",
      "execution_count": null,
      "metadata": {
        "colab": {
          "base_uri": "https://localhost:8080/"
        },
        "id": "bcf8667d",
        "outputId": "8b1f9c85-909a-44c6-96cf-357146e47e5a"
      },
      "outputs": [
        {
          "output_type": "stream",
          "name": "stdout",
          "text": [
            "For training data : \n",
            "\tThe classification accuarcy = 100.0%\n",
            "\tThe classification loss     = 21.5266\n",
            "For   test   data : \n",
            "\tThe classification accuarcy = 33.2%\n",
            "\tThe classification loss     = 22174.6497\n"
          ]
        }
      ],
      "source": [
        "LS_train = LS(x_train_emnist, y_train_emnist, 'training')\n",
        "LS_train.LS_Method()\n",
        "LS_W = LS_train.Get_Weight()\n",
        "\n",
        "LS_test = LS(x_test_emnist, y_test_emnist, '  test  ')\n",
        "LS_test.Training_Weight(LS_W)\n",
        "LS_test.LS_Method()"
      ],
      "id": "bcf8667d"
    },
    {
      "cell_type": "code",
      "execution_count": 39,
      "metadata": {
        "id": "eccb9822"
      },
      "outputs": [],
      "source": [
        "# for logistic regression\n",
        "class Logistic_Regression():\n",
        "    def __init__(self, x_train, y_train, x_test, y_test, classes, learning_rate):\n",
        "        self.x_train, self.y_train, self.x_test, self.y_test = x_train, y_train, x_test, y_test\n",
        "        self.classes = classes\n",
        "        self.eta = learning_rate\n",
        "        \n",
        "        # initial weight to be 0 everywhere\n",
        "        #self.W = np.random.uniform(size=(classes, x_train.shape[1]))\n",
        "        self.W = np.zeros((self.classes, x_train.shape[1]))\n",
        "        \n",
        "        # learning history\n",
        "        self.train_loss, self.train_precision = [], []\n",
        "        self.test_loss, self.test_precision = [], []\n",
        "    \n",
        "    # calculate the prediction\n",
        "    def Prediction(self):\n",
        "        self.x_train_pred = np.dot(self.x_train, self.W.T)\n",
        "        self.x_test_pred = np.dot(self.x_test, self.W.T)\n",
        "    \n",
        "    # use softmax to normalize the probability\n",
        "    def Softmax(self):\n",
        "        # training set\n",
        "        exp_z = np.exp(self.x_train_pred)\n",
        "        exp_sum = np.sum(exp_z, axis=1).reshape(exp_z.shape[0], 1)\n",
        "        self.train_pred = exp_z / exp_sum\n",
        "        \n",
        "        # test set\n",
        "        exp_z = np.exp(self.x_test_pred)\n",
        "        exp_sum = np.sum(exp_z, axis=1).reshape(exp_z.shape[0], 1)\n",
        "        self.test_pred = exp_z / exp_sum\n",
        "    \n",
        "    # esitmation prediction perfomance\n",
        "    def Cross_entropy(self):\n",
        "        # training set\n",
        "        n = self.y_train.shape[0]\n",
        "        error = 0\n",
        "        q = np.log2(self.train_pred)\n",
        "        for i in range(n):\n",
        "            for j in range(self.classes):\n",
        "                error -= self.y_train[i][j]*q[i][j]\n",
        "        self.train_loss.append(error / n)\n",
        "        \n",
        "        # test set\n",
        "        n = self.y_test.shape[0]\n",
        "        error = 0\n",
        "        q = np.log2(self.test_pred)\n",
        "        for i in range(n):\n",
        "            for j in range(self.classes):\n",
        "                error -= self.y_test[i][j]*q[i][j]\n",
        "        self.test_loss.append(error / n)\n",
        "    \n",
        "    # calculate precision\n",
        "    def Precision(self):\n",
        "        # training set\n",
        "        one_hot_pred = np.argmax(self.train_pred, axis=1)\n",
        "        one_hot_y = np.argmax(self.y_train, axis=1)\n",
        "        truth = one_hot_pred.shape[0]\n",
        "        count = truth\n",
        "        for i in range(truth):\n",
        "            if one_hot_pred[i] != one_hot_y[i]:\n",
        "                count -= 1\n",
        "        self.train_precision.append(count / truth)\n",
        "        \n",
        "        # test set\n",
        "        one_hot_pred = np.argmax(self.test_pred, axis=1)\n",
        "        one_hot_y = np.argmax(self.y_test, axis=1)\n",
        "        truth = one_hot_pred.shape[0]\n",
        "        count = truth\n",
        "        for i in range(truth):\n",
        "            if one_hot_pred[i] != one_hot_y[i]:\n",
        "                count -= 1\n",
        "        self.test_precision.append(count / truth)\n",
        "    \n",
        "    # back-propagation of (softmax + cross-entropy)\n",
        "    def Derivative_cross_entropy(self, y_pred, y):\n",
        "        self.derivative = y_pred - y\n",
        "    \n",
        "    # batch gradient descent\n",
        "    def Batch_GD(self):\n",
        "        self.Derivative_cross_entropy(self.train_pred, self.y_train)\n",
        "        gradient = np.dot(self.derivative.T, self.x_train)\n",
        "        self.W -= gradient * self.eta\n",
        "    \n",
        "    # stochastic gradient descent, with 32 iteration for each epoch\n",
        "    def SGD(self):\n",
        "        for i in range(32):\n",
        "            id = np.random.randint(self.y_train.shape[0], size=1)\n",
        "            self.Derivative_cross_entropy(self.train_pred[id], self.y_train[id])\n",
        "            gradient = np.dot(self.derivative.T, self.x_train[id])\n",
        "            self.W -= gradient * self.eta\n",
        "    \n",
        "    # minibatch gradient descent, with user-defined minibatch\n",
        "    def Minibatch_SGD(self):\n",
        "        id = np.random.choice(self.y_train.shape[0], self.minibatch, replace=False)\n",
        "\n",
        "        sgd_x = np.zeros((self.minibatch, self.x_train.shape[1]))\n",
        "        sgd_y = np.zeros((self.minibatch, self.classes))\n",
        "        sgd_y_pred = np.zeros((self.minibatch, self.classes))\n",
        "        for i in range(self.minibatch):\n",
        "            sgd_x[i, :] = self.x_train[id[i], :]\n",
        "            sgd_y[i, :] = self.y_train[id[i], :]\n",
        "            sgd_y_pred[i, :] = self.train_pred[id[i], :]\n",
        "        \n",
        "        self.Derivative_cross_entropy(sgd_y_pred, sgd_y)\n",
        "        gradient = np.dot(self.derivative.T, sgd_x)\n",
        "        self.W -= gradient * self.eta\n",
        "    \n",
        "    # plot learning curve\n",
        "    def Plot(self):\n",
        "        x_axis = list(range(self.epoch))\n",
        "        # plot loss curve\n",
        "        plt.subplot(1, 2, 1)\n",
        "        plt.plot(x_axis, self.train_loss, color='blue', label='training loss')\n",
        "        plt.plot(x_axis, self.test_loss, color='orange', label='testing loss')\n",
        "        plt.legend()\n",
        "        \n",
        "        # plot precision curve\n",
        "        plt.subplot(1, 2, 2)\n",
        "        percetage_train = [round(i, 2)*100 for i in self.train_precision]\n",
        "        percetage_test = [round(i, 2)*100 for i in self.test_precision]\n",
        "        plt.plot(x_axis, percetage_train, color='blue', label='training accuracy')\n",
        "        plt.plot(x_axis, percetage_test, color='orange', label='testing accuracy')\n",
        "        plt.legend()\n",
        "\n",
        "        plt.show()\n",
        "    \n",
        "    def Display(self):\n",
        "        print('for training data, the final classification accuracy = '+str(round(self.train_precision[self.epoch-1], 5))+\n",
        "              ', and loss = '+str(round(self.train_loss[self.epoch-1], 5)))\n",
        "        print('for testing  data, the final classification accuracy = '+str(round(self.test_precision[self.epoch-1], 5))+\n",
        "              ', and loss = '+str(round(self.test_loss[self.epoch-1], 5)))\n",
        "    \n",
        "    # process logistic regression\n",
        "    def Training(self, epoch, optimizer, minibatch=32):\n",
        "        self.epoch = epoch\n",
        "        self.optimizer = optimizer\n",
        "        self.minibatch = minibatch\n",
        "        \n",
        "        for i in range(epoch):\n",
        "            # model prediction\n",
        "            self.Prediction()\n",
        "            \n",
        "            # normalize probability\n",
        "            self.Softmax()\n",
        "            \n",
        "            # estimation prediction performance\n",
        "            self.Cross_entropy()\n",
        "            \n",
        "            # calculate precision\n",
        "            self.Precision()\n",
        "\n",
        "            # back-propagation with different method\n",
        "            if self.optimizer == 'Batch GD':\n",
        "                self.Batch_GD()\n",
        "            elif self.optimizer == 'SGD':\n",
        "                self.SGD()\n",
        "            elif self.optimizer == 'Minibatch SGD':\n",
        "                self.Minibatch_SGD()\n",
        "        \n",
        "        # plot learning curve with loss and accuracy\n",
        "        print('For ' + self.optimizer + ' :')\n",
        "        self.Plot()\n",
        "        \n",
        "        # display final information\n",
        "        self.Display()"
      ],
      "id": "eccb9822"
    },
    {
      "cell_type": "code",
      "execution_count": null,
      "metadata": {
        "colab": {
          "base_uri": "https://localhost:8080/",
          "height": 317
        },
        "id": "dcbb3ebb",
        "outputId": "17bd43b6-9bc9-4dfc-9251-b0ce5d3ea470"
      },
      "outputs": [
        {
          "output_type": "stream",
          "name": "stdout",
          "text": [
            "For Batch GD :\n"
          ]
        },
        {
          "output_type": "display_data",
          "data": {
            "image/png": "[encoded data removed]",
            "text/plain": [
              "<Figure size 432x288 with 2 Axes>"
            ]
          },
          "metadata": {
            "needs_background": "light"
          }
        },
        {
          "output_type": "stream",
          "name": "stdout",
          "text": [
            "for training data, the final classification accuracy = 0.93229, and loss = 0.43491\n",
            "for testing  data, the final classification accuracy = 0.73047, and loss = 1.10876\n"
          ]
        }
      ],
      "source": [
        "epoch = 300\n",
        "learning_rate = 1e-4\n",
        "# use batch gradient as optimizer\n",
        "Batch_GD = Logistic_Regression(x_train_emnist, y_train_emnist, x_test_emnist, y_test_emnist, 8, learning_rate)\n",
        "Batch_GD.Training(epoch, 'Batch GD')"
      ],
      "id": "dcbb3ebb"
    },
    {
      "cell_type": "code",
      "execution_count": null,
      "metadata": {
        "colab": {
          "base_uri": "https://localhost:8080/",
          "height": 317
        },
        "id": "d1f44fb1",
        "outputId": "596e7fce-28c9-4751-9f6c-e21a79dc411e"
      },
      "outputs": [
        {
          "output_type": "stream",
          "name": "stdout",
          "text": [
            "For SGD :\n"
          ]
        },
        {
          "output_type": "display_data",
          "data": {
            "image/png": "[encoded data removed]",
            "text/plain": [
              "<Figure size 432x288 with 2 Axes>"
            ]
          },
          "metadata": {
            "needs_background": "light"
          }
        },
        {
          "output_type": "stream",
          "name": "stdout",
          "text": [
            "for training data, the final classification accuracy = 0.79427, and loss = 1.13631\n",
            "for testing  data, the final classification accuracy = 0.70312, and loss = 1.36723\n"
          ]
        }
      ],
      "source": [
        "# use stochastic gradient (with 32 iteration each eopch) as optimizer\n",
        "epoch = 600\n",
        "SGD = Logistic_Regression(x_train_emnist, y_train_emnist, x_test_emnist, y_test_emnist, 8, learning_rate)\n",
        "SGD.Training(epoch, 'SGD')"
      ],
      "id": "d1f44fb1"
    },
    {
      "cell_type": "code",
      "execution_count": null,
      "metadata": {
        "colab": {
          "base_uri": "https://localhost:8080/",
          "height": 317
        },
        "id": "f8311671",
        "outputId": "d734abc1-1b38-4059-e8bd-f1eea3f362a1"
      },
      "outputs": [
        {
          "output_type": "stream",
          "name": "stdout",
          "text": [
            "For Minibatch SGD :\n"
          ]
        },
        {
          "output_type": "display_data",
          "data": {
            "image/png": "[encoded data removed]",
            "text/plain": [
              "<Figure size 432x288 with 2 Axes>"
            ]
          },
          "metadata": {
            "needs_background": "light"
          }
        },
        {
          "output_type": "stream",
          "name": "stdout",
          "text": [
            "for training data, the final classification accuracy = 0.83333, and loss = 0.89745\n",
            "for testing  data, the final classification accuracy = 0.71094, and loss = 1.20735\n"
          ]
        }
      ],
      "source": [
        "# use minibatch stochastic gradient as optimizer\n",
        "Minibatch_SGD = Logistic_Regression(x_train_emnist, y_train_emnist, x_test_emnist, y_test_emnist, 8, learning_rate)\n",
        "Minibatch_SGD.Training(epoch, 'Minibatch SGD', minibatch=64)"
      ],
      "id": "f8311671"
    },
    {
      "cell_type": "code",
      "execution_count": 8,
      "metadata": {
        "id": "5008f8d2"
      },
      "outputs": [],
      "source": [
        "# for SVM\n",
        "from sklearn.decomposition import PCA # transform the dimestion to 2D data\n",
        "from matplotlib.colors import ListedColormap\n",
        "from sklearn import svm\n",
        "from sklearn.metrics import accuracy_score"
      ],
      "id": "5008f8d2"
    },
    {
      "cell_type": "code",
      "source": [
        "# define kernel function for sklearn.svm.SVC\n",
        "def Linear_kernel(x, y):\n",
        "  return np.dot(x, y.T)"
      ],
      "metadata": {
        "id": "vC8Ng3IBrKli"
      },
      "id": "vC8Ng3IBrKli",
      "execution_count": 9,
      "outputs": []
    },
    {
      "cell_type": "code",
      "source": [
        "class SVM():\n",
        "  def __init__(self, x, y, classes):\n",
        "    self.classes = classes\n",
        "\n",
        "    # dimension reduction\n",
        "    pca = PCA(n_components=2)\n",
        "    pca.fit(x)\n",
        "    self.x = pca.transform(x)\n",
        "    self.N = self.x.shape[0]\n",
        "\n",
        "    # y need not be one-hot encoding\n",
        "    self.Inverse_one_hot(y)\n",
        "  \n",
        "  # convert one-hot encoding to 1D\n",
        "  def Inverse_one_hot(self, y):\n",
        "    label = np.argmax(y, axis=1)\n",
        "    self.y = np.array(label)\n",
        "\n",
        "  # one-versus-the-rest\n",
        "  def OvR(self, target_type):\n",
        "    x1 = [self.x[c,:] for c in range(self.N) if self.y[c] == target_type]\n",
        "    x2 = [self.x[c,:] for c in range(self.N) if self.y[c] != target_type]\n",
        "    x = x1 + x2\n",
        "    x = np.array(x)\n",
        "    \n",
        "    y1 = [1 for c in range(self.N) if self.y[c] == target_type]\n",
        "    y2 = [-1 for c in range(self.N) if self.y[c] != target_type]\n",
        "    y = y1 + y2\n",
        "    y = np.array(y)\n",
        "    \n",
        "    return x, y\n",
        "\n",
        "  # calculate w & b throught SVM\n",
        "  def SVM_Process(self, x_train, y_train, target_type):\n",
        "    # perform svm to get support vectors and Lagrange multipliers\n",
        "    linear_svm = svm.SVC(kernel=Linear_kernel)\n",
        "    linear_svm.fit(x_train, y_train)\n",
        "    \n",
        "    # get index of support vectors\n",
        "    sv_index = linear_svm.support_\n",
        "\n",
        "    # get the Lagrange multiplier (already multiply tn)\n",
        "    alpha = np.abs(linear_svm.dual_coef_)\n",
        "    \n",
        "    # get support vector\n",
        "    sv = [x_train[c,:] for c in range(x_train.shape[0]) if c in sv_index]\n",
        "    sv = np.array(sv)\n",
        "    \n",
        "    # get the target value of support vectors\n",
        "    t = [y_train[c] for c in range(y_train.shape[0]) if c in sv_index]\n",
        "    t = np.array(t).reshape((1, -1))\n",
        "\n",
        "    # target value reweighted\n",
        "    alpha = alpha / t\n",
        "    for i in range(t.shape[1]):\n",
        "        if t[0,i] < 0:\n",
        "            t[0,i] = -0.5\n",
        "    alpha = alpha * t\n",
        "    \n",
        "    # calculate w\n",
        "    w = np.dot(alpha, sv) # 1 x classes\n",
        "\n",
        "    # calculate b\n",
        "    b = 0\n",
        "    for i, x1 in enumerate(sv):\n",
        "        b += t[0,i]\n",
        "        for j, x2 in enumerate(sv):\n",
        "            b = b - alpha[0,j] * Linear_kernel(x1, x2)\n",
        "    b = b / len(sv_index)\n",
        "    \n",
        "    sv_index = sv_index.tolist()\n",
        "    \n",
        "    return w, b\n",
        "  \n",
        "  # define voting criterion\n",
        "  def Vote(self, x):\n",
        "    # calculate score by w*x+b\n",
        "    prediction = np.dot(x, self.w.T) + self.b\n",
        "    vote = np.array(prediction)\n",
        "\n",
        "    # choose the one that has the largest score\n",
        "    label = np.argmax(vote, axis=1)\n",
        "\n",
        "    return label\n",
        "\n",
        "  # plot the geometry presentation\n",
        "  def Plot(self, class_label):\n",
        "    # define color for different classes\n",
        "#    colors = ['pink', 'wheat', 'red', 'yellow', 'lightgreen', 'lightblue', 'blue', 'purple', 'violet', 'silver']\n",
        "    colors = ['pink', 'wheat', 'red', 'yellow', 'lightgreen', 'lightblue', 'blue', 'purple', 'violet', 'wheat']\n",
        "    colors_dict = {0:'red', 1:'orange', 2:'darkred', 3:'gold', 4:'green', 5:'deepskyblue', 6:'navy', 7:'darkmagenta', 8:'darkviolet', 9:'dimgray'}\n",
        "    my_map = ListedColormap(colors)\n",
        "    #my_map = plt.cm.get_cmap('viridis', 9)\n",
        "    \n",
        "    # plot block color\n",
        "    resolution = 100\n",
        "    x1_range = np.linspace(np.min(self.x[:,0]), np.max(self.x[:,0]), resolution)\n",
        "    x2_range = np.linspace(np.min(self.x[:,1]), np.max(self.x[:,1]), resolution)\n",
        "\n",
        "    # use meshgrid to plot region color\n",
        "    x1, x2 = np.meshgrid(x1_range, x2_range)\n",
        "\n",
        "    # determine region color\n",
        "    y_plot = []\n",
        "    for i in x1_range:\n",
        "      for j in x2_range:\n",
        "        t = np.array([i, j]).reshape((1, 2))\n",
        "        temp = self.Vote(t)\n",
        "        y_plot.append(temp)\n",
        "    \n",
        "    y_plot = np.array(y_plot).reshape((x1.shape))\n",
        "    # plot boundary\n",
        "    plt.contourf(x1, x2, y_plot.T, cmap=my_map)\n",
        "    \n",
        "    # find support vectors\n",
        "    linear_svm = svm.SVC(kernel=Linear_kernel)\n",
        "    linear_svm.fit(self.x, self.y)\n",
        "    sv = linear_svm.support_\n",
        "    \n",
        "    # plot the result\n",
        "    p1, p2, p3, p4, p5, p6, p7, p8, p9, p10 = None, None, None, None, None, None, None, None, None, None\n",
        "    for i in range(self.N):\n",
        "        class_type = int(self.label[i])\n",
        "        if i in sv:\n",
        "            pp = plt.scatter(self.x[i, 0], self.x[i, 1], marker='o', color=colors_dict[class_type], edgecolors='black')\n",
        "        elif class_type == 0:\n",
        "            p1 = plt.scatter(self.x[i, 0], self.x[i, 1], marker='x', color=colors_dict[0])\n",
        "        elif class_type == 1:\n",
        "            p2 = plt.scatter(self.x[i, 0], self.x[i, 1], marker='x', color=colors_dict[1])\n",
        "        elif class_type == 2:\n",
        "            p3 = plt.scatter(self.x[i, 0], self.x[i, 1], marker='x', color=colors_dict[2])\n",
        "        elif class_type == 3:\n",
        "            p4 = plt.scatter(self.x[i, 0], self.x[i, 1], marker='x', color=colors_dict[3])\n",
        "        elif class_type == 4:\n",
        "            p5 = plt.scatter(self.x[i, 0], self.x[i, 1], marker='x', color=colors_dict[4])\n",
        "        elif class_type == 5:\n",
        "            p6 = plt.scatter(self.x[i, 0], self.x[i, 1], marker='x', color=colors_dict[5])\n",
        "        elif class_type == 6:\n",
        "            p7 = plt.scatter(self.x[i, 0], self.x[i, 1], marker='x', color=colors_dict[6])\n",
        "        elif class_type == 7:\n",
        "            p8 = plt.scatter(self.x[i, 0], self.x[i, 1], marker='x', color=colors_dict[7])\n",
        "        elif class_type == 8:\n",
        "            p9 = plt.scatter(self.x[i, 0], self.x[i, 1], marker='x', color=colors_dict[8])\n",
        "        elif class_type == 9:\n",
        "            p10 = plt.scatter(self.x[i, 0], self.x[i, 1], marker='x', color=colors_dict[9])\n",
        "        \n",
        "    # construct the list for lenged\n",
        "    p1 = plt.scatter(np.NaN, np.NaN, marker='x', color=colors_dict[0])\n",
        "    p2 = plt.scatter(np.NaN, np.NaN, marker='x', color=colors_dict[1])\n",
        "    p3 = plt.scatter(np.NaN, np.NaN, marker='x', color=colors_dict[2])\n",
        "    p4 = plt.scatter(np.NaN, np.NaN, marker='x', color=colors_dict[3])\n",
        "    p5 = plt.scatter(np.NaN, np.NaN, marker='x', color=colors_dict[4])\n",
        "    p6 = plt.scatter(np.NaN, np.NaN, marker='x', color=colors_dict[5])\n",
        "    p7 = plt.scatter(np.NaN, np.NaN, marker='x', color=colors_dict[6])\n",
        "    p8 = plt.scatter(np.NaN, np.NaN, marker='x', color=colors_dict[7])\n",
        "    p9 = plt.scatter(np.NaN, np.NaN, marker='x', color=colors_dict[8])\n",
        "    p10 = plt.scatter(np.NaN, np.NaN, marker='x', color=colors_dict[9])\n",
        "    # plot the first cv again to let the label right\n",
        "    pp = plt.scatter(self.x[sv[0], 0], self.x[sv[0], 1], marker='o', facecolors='None', color='black')\n",
        "    \n",
        "    if self.classes == 2:\n",
        "      plt.legend([p1, p2, pp], class_label, loc='upper left')\n",
        "    if self.classes == 8:\n",
        "      plt.legend([p1, p2, p3, p4, p5, p6, p7, p8, pp], class_label, loc='upper left')\n",
        "    elif self.classes == 10:\n",
        "      plt.legend([p1, p2, p3, p4, p5, p6, p7, p8, p9, pp], class_label, loc='upper left')\n",
        "    \n",
        "    plt.title('linear SVM')\n",
        "    plt.show()\n",
        "  \n",
        "  # calculate predict accuracy\n",
        "  def Precision(self):\n",
        "    #print(self.y)\n",
        "    #print(self.label)\n",
        "    correct = [1 for i in range(self.N) if self.y[i] == self.label[i]]\n",
        "    count = np.sum(correct)\n",
        "    print(count / self.N)\n",
        "\n",
        "  # main function of SVM\n",
        "  def SVM(self):\n",
        "    w, b = [], []\n",
        "\n",
        "    # construct #(classes) SVM model\n",
        "    for i in range(self.classes):\n",
        "      # one-versus-the-rest\n",
        "      x1, y1 = self.OvR(i)\n",
        "\n",
        "      # perform svm to calculate w & b\n",
        "      w1, b1 = self.SVM_Process(x1, y1, i)\n",
        "\n",
        "      w.append(w1)\n",
        "      b.append(b1)\n",
        "    \n",
        "    self.w = np.array(w).reshape(self.classes, 2)\n",
        "    self.b = np.array(b)\n",
        "\n",
        "    # predict the training data\n",
        "    self.label = self.Vote(self.x)\n",
        "    self.Precision()\n",
        "    self.Count()\n",
        "\n",
        "  def Count(self):\n",
        "    for i in range(self.classes):\n",
        "      c = [1 for c in range(self.N) if self.label[c] == i]\n",
        "      print(len(c))\n",
        "  \n",
        "  def SKLearn(self):\n",
        "    linear_svm = svm.SVC(kernel='linear')\n",
        "    linear_svm.fit(self.x, self.y)\n",
        "\n",
        "    self.label = linear_svm.predict(self.x)\n",
        "    self.w = linear_svm.coef_\n",
        "    self.b = linear_svm.intercept_\n",
        "    size = self.y.shape[0]\n",
        "    print(accuracy_score(self.y.reshape((size, -1)), self.label.reshape((size, -1))))\n",
        "    self.Precision()"
      ],
      "metadata": {
        "id": "AccWYIGolBt-"
      },
      "id": "AccWYIGolBt-",
      "execution_count": 156,
      "outputs": []
    },
    {
      "cell_type": "code",
      "source": [
        "sk_mnist = SVM(x_train_emnist[:192], y_train_emnist[:192], 2)\n",
        "sk_mnist.SKLearn()\n",
        "print(sk_mnist.w)\n",
        "sk_mnist.Plot(emnist_label)"
      ],
      "metadata": {
        "colab": {
          "base_uri": "https://localhost:8080/",
          "height": 333
        },
        "id": "hxTNRSm51g_l",
        "outputId": "78aaf9a6-bd0e-45f0-91da-7525e1dc2724"
      },
      "id": "hxTNRSm51g_l",
      "execution_count": 160,
      "outputs": [
        {
          "output_type": "stream",
          "name": "stdout",
          "text": [
            "0.8854166666666666\n",
            "0.8854166666666666\n",
            "[[-0.41268807 -0.20740638]]\n"
          ]
        },
        {
          "output_type": "display_data",
          "data": {
            "image/png": "[encoded data removed]",
            "text/plain": [
              "<Figure size 432x288 with 1 Axes>"
            ]
          },
          "metadata": {
            "needs_background": "light"
          }
        }
      ]
    },
    {
      "cell_type": "code",
      "source": [
        "sk_cifar = SVM(x_small_cifar, y_small_cifar, 10)\n",
        "sk_cifar.SKLearn()\n",
        "cifar_label = ['airplane', 'automobile', 'bird', 'cat', 'deer', 'dog', 'frog', 'horse', 'ship', 'truck', 'sv']\n",
        "sk_cifar.Plot(cifar_label)"
      ],
      "metadata": {
        "colab": {
          "base_uri": "https://localhost:8080/",
          "height": 664
        },
        "id": "TRaLOQK03Mtc",
        "outputId": "edc438dc-115c-493d-de6f-fb5581a1e641"
      },
      "id": "TRaLOQK03Mtc",
      "execution_count": 147,
      "outputs": [
        {
          "output_type": "stream",
          "name": "stdout",
          "text": [
            "0.236\n",
            "0.236\n"
          ]
        },
        {
          "output_type": "error",
          "ename": "KeyboardInterrupt",
          "evalue": "ignored",
          "traceback": [
            "\u001b[0;31m---------------------------------------------------------------------------\u001b[0m",
            "\u001b[0;31mKeyboardInterrupt\u001b[0m                         Traceback (most recent call last)",
            "\u001b[0;32m<ipython-input-147-3caff40f7f83>\u001b[0m in \u001b[0;36m<module>\u001b[0;34m()\u001b[0m\n\u001b[1;32m      2\u001b[0m \u001b[0msk_cifar\u001b[0m\u001b[0;34m.\u001b[0m\u001b[0mSKLearn\u001b[0m\u001b[0;34m(\u001b[0m\u001b[0;34m)\u001b[0m\u001b[0;34m\u001b[0m\u001b[0;34m\u001b[0m\u001b[0m\n\u001b[1;32m      3\u001b[0m \u001b[0mcifar_label\u001b[0m \u001b[0;34m=\u001b[0m \u001b[0;34m[\u001b[0m\u001b[0;34m'airplane'\u001b[0m\u001b[0;34m,\u001b[0m \u001b[0;34m'automobile'\u001b[0m\u001b[0;34m,\u001b[0m \u001b[0;34m'bird'\u001b[0m\u001b[0;34m,\u001b[0m \u001b[0;34m'cat'\u001b[0m\u001b[0;34m,\u001b[0m \u001b[0;34m'deer'\u001b[0m\u001b[0;34m,\u001b[0m \u001b[0;34m'dog'\u001b[0m\u001b[0;34m,\u001b[0m \u001b[0;34m'frog'\u001b[0m\u001b[0;34m,\u001b[0m \u001b[0;34m'horse'\u001b[0m\u001b[0;34m,\u001b[0m \u001b[0;34m'ship'\u001b[0m\u001b[0;34m,\u001b[0m \u001b[0;34m'truck'\u001b[0m\u001b[0;34m,\u001b[0m \u001b[0;34m'sv'\u001b[0m\u001b[0;34m]\u001b[0m\u001b[0;34m\u001b[0m\u001b[0;34m\u001b[0m\u001b[0m\n\u001b[0;32m----> 4\u001b[0;31m \u001b[0msk_cifar\u001b[0m\u001b[0;34m.\u001b[0m\u001b[0mPlot\u001b[0m\u001b[0;34m(\u001b[0m\u001b[0mcifar_label\u001b[0m\u001b[0;34m)\u001b[0m\u001b[0;34m\u001b[0m\u001b[0;34m\u001b[0m\u001b[0m\n\u001b[0m",
            "\u001b[0;32m<ipython-input-130-f171c2b1f9a2>\u001b[0m in \u001b[0;36mPlot\u001b[0;34m(self, class_label)\u001b[0m\n\u001b[1;32m    123\u001b[0m         \u001b[0mclass_type\u001b[0m \u001b[0;34m=\u001b[0m \u001b[0mint\u001b[0m\u001b[0;34m(\u001b[0m\u001b[0mself\u001b[0m\u001b[0;34m.\u001b[0m\u001b[0mlabel\u001b[0m\u001b[0;34m[\u001b[0m\u001b[0mi\u001b[0m\u001b[0;34m]\u001b[0m\u001b[0;34m)\u001b[0m\u001b[0;34m\u001b[0m\u001b[0;34m\u001b[0m\u001b[0m\n\u001b[1;32m    124\u001b[0m         \u001b[0;32mif\u001b[0m \u001b[0mi\u001b[0m \u001b[0;32min\u001b[0m \u001b[0msv\u001b[0m\u001b[0;34m:\u001b[0m\u001b[0;34m\u001b[0m\u001b[0;34m\u001b[0m\u001b[0m\n\u001b[0;32m--> 125\u001b[0;31m             \u001b[0mpp\u001b[0m \u001b[0;34m=\u001b[0m \u001b[0mplt\u001b[0m\u001b[0;34m.\u001b[0m\u001b[0mscatter\u001b[0m\u001b[0;34m(\u001b[0m\u001b[0mself\u001b[0m\u001b[0;34m.\u001b[0m\u001b[0mx\u001b[0m\u001b[0;34m[\u001b[0m\u001b[0mi\u001b[0m\u001b[0;34m,\u001b[0m \u001b[0;36m0\u001b[0m\u001b[0;34m]\u001b[0m\u001b[0;34m,\u001b[0m \u001b[0mself\u001b[0m\u001b[0;34m.\u001b[0m\u001b[0mx\u001b[0m\u001b[0;34m[\u001b[0m\u001b[0mi\u001b[0m\u001b[0;34m,\u001b[0m \u001b[0;36m1\u001b[0m\u001b[0;34m]\u001b[0m\u001b[0;34m,\u001b[0m \u001b[0mmarker\u001b[0m\u001b[0;34m=\u001b[0m\u001b[0;34m'o'\u001b[0m\u001b[0;34m,\u001b[0m \u001b[0mcolor\u001b[0m\u001b[0;34m=\u001b[0m\u001b[0mcolors_dict\u001b[0m\u001b[0;34m[\u001b[0m\u001b[0mclass_type\u001b[0m\u001b[0;34m]\u001b[0m\u001b[0;34m,\u001b[0m \u001b[0medgecolors\u001b[0m\u001b[0;34m=\u001b[0m\u001b[0;34m'black'\u001b[0m\u001b[0;34m)\u001b[0m\u001b[0;34m\u001b[0m\u001b[0;34m\u001b[0m\u001b[0m\n\u001b[0m\u001b[1;32m    126\u001b[0m         \u001b[0;32melif\u001b[0m \u001b[0mclass_type\u001b[0m \u001b[0;34m==\u001b[0m \u001b[0;36m0\u001b[0m\u001b[0;34m:\u001b[0m\u001b[0;34m\u001b[0m\u001b[0;34m\u001b[0m\u001b[0m\n\u001b[1;32m    127\u001b[0m             \u001b[0mp1\u001b[0m \u001b[0;34m=\u001b[0m \u001b[0mplt\u001b[0m\u001b[0;34m.\u001b[0m\u001b[0mscatter\u001b[0m\u001b[0;34m(\u001b[0m\u001b[0mself\u001b[0m\u001b[0;34m.\u001b[0m\u001b[0mx\u001b[0m\u001b[0;34m[\u001b[0m\u001b[0mi\u001b[0m\u001b[0;34m,\u001b[0m \u001b[0;36m0\u001b[0m\u001b[0;34m]\u001b[0m\u001b[0;34m,\u001b[0m \u001b[0mself\u001b[0m\u001b[0;34m.\u001b[0m\u001b[0mx\u001b[0m\u001b[0;34m[\u001b[0m\u001b[0mi\u001b[0m\u001b[0;34m,\u001b[0m \u001b[0;36m1\u001b[0m\u001b[0;34m]\u001b[0m\u001b[0;34m,\u001b[0m \u001b[0mmarker\u001b[0m\u001b[0;34m=\u001b[0m\u001b[0;34m'x'\u001b[0m\u001b[0;34m,\u001b[0m \u001b[0mcolor\u001b[0m\u001b[0;34m=\u001b[0m\u001b[0mcolors_dict\u001b[0m\u001b[0;34m[\u001b[0m\u001b[0;36m0\u001b[0m\u001b[0;34m]\u001b[0m\u001b[0;34m)\u001b[0m\u001b[0;34m\u001b[0m\u001b[0;34m\u001b[0m\u001b[0m\n",
            "\u001b[0;32m/usr/local/lib/python3.7/dist-packages/matplotlib/pyplot.py\u001b[0m in \u001b[0;36mscatter\u001b[0;34m(x, y, s, c, marker, cmap, norm, vmin, vmax, alpha, linewidths, verts, edgecolors, plotnonfinite, data, **kwargs)\u001b[0m\n\u001b[1;32m   2814\u001b[0m         \u001b[0mverts\u001b[0m\u001b[0;34m=\u001b[0m\u001b[0mverts\u001b[0m\u001b[0;34m,\u001b[0m \u001b[0medgecolors\u001b[0m\u001b[0;34m=\u001b[0m\u001b[0medgecolors\u001b[0m\u001b[0;34m,\u001b[0m\u001b[0;34m\u001b[0m\u001b[0;34m\u001b[0m\u001b[0m\n\u001b[1;32m   2815\u001b[0m         plotnonfinite=plotnonfinite, **({\"data\": data} if data is not\n\u001b[0;32m-> 2816\u001b[0;31m         None else {}), **kwargs)\n\u001b[0m\u001b[1;32m   2817\u001b[0m     \u001b[0msci\u001b[0m\u001b[0;34m(\u001b[0m\u001b[0m__ret\u001b[0m\u001b[0;34m)\u001b[0m\u001b[0;34m\u001b[0m\u001b[0;34m\u001b[0m\u001b[0m\n\u001b[1;32m   2818\u001b[0m     \u001b[0;32mreturn\u001b[0m \u001b[0m__ret\u001b[0m\u001b[0;34m\u001b[0m\u001b[0;34m\u001b[0m\u001b[0m\n",
            "\u001b[0;32m/usr/local/lib/python3.7/dist-packages/matplotlib/__init__.py\u001b[0m in \u001b[0;36minner\u001b[0;34m(ax, data, *args, **kwargs)\u001b[0m\n\u001b[1;32m   1563\u001b[0m     \u001b[0;32mdef\u001b[0m \u001b[0minner\u001b[0m\u001b[0;34m(\u001b[0m\u001b[0max\u001b[0m\u001b[0;34m,\u001b[0m \u001b[0;34m*\u001b[0m\u001b[0margs\u001b[0m\u001b[0;34m,\u001b[0m \u001b[0mdata\u001b[0m\u001b[0;34m=\u001b[0m\u001b[0;32mNone\u001b[0m\u001b[0;34m,\u001b[0m \u001b[0;34m**\u001b[0m\u001b[0mkwargs\u001b[0m\u001b[0;34m)\u001b[0m\u001b[0;34m:\u001b[0m\u001b[0;34m\u001b[0m\u001b[0;34m\u001b[0m\u001b[0m\n\u001b[1;32m   1564\u001b[0m         \u001b[0;32mif\u001b[0m \u001b[0mdata\u001b[0m \u001b[0;32mis\u001b[0m \u001b[0;32mNone\u001b[0m\u001b[0;34m:\u001b[0m\u001b[0;34m\u001b[0m\u001b[0;34m\u001b[0m\u001b[0m\n\u001b[0;32m-> 1565\u001b[0;31m             \u001b[0;32mreturn\u001b[0m \u001b[0mfunc\u001b[0m\u001b[0;34m(\u001b[0m\u001b[0max\u001b[0m\u001b[0;34m,\u001b[0m \u001b[0;34m*\u001b[0m\u001b[0mmap\u001b[0m\u001b[0;34m(\u001b[0m\u001b[0msanitize_sequence\u001b[0m\u001b[0;34m,\u001b[0m \u001b[0margs\u001b[0m\u001b[0;34m)\u001b[0m\u001b[0;34m,\u001b[0m \u001b[0;34m**\u001b[0m\u001b[0mkwargs\u001b[0m\u001b[0;34m)\u001b[0m\u001b[0;34m\u001b[0m\u001b[0;34m\u001b[0m\u001b[0m\n\u001b[0m\u001b[1;32m   1566\u001b[0m \u001b[0;34m\u001b[0m\u001b[0m\n\u001b[1;32m   1567\u001b[0m         \u001b[0mbound\u001b[0m \u001b[0;34m=\u001b[0m \u001b[0mnew_sig\u001b[0m\u001b[0;34m.\u001b[0m\u001b[0mbind\u001b[0m\u001b[0;34m(\u001b[0m\u001b[0max\u001b[0m\u001b[0;34m,\u001b[0m \u001b[0;34m*\u001b[0m\u001b[0margs\u001b[0m\u001b[0;34m,\u001b[0m \u001b[0;34m**\u001b[0m\u001b[0mkwargs\u001b[0m\u001b[0;34m)\u001b[0m\u001b[0;34m\u001b[0m\u001b[0;34m\u001b[0m\u001b[0m\n",
            "\u001b[0;32m/usr/local/lib/python3.7/dist-packages/matplotlib/cbook/deprecation.py\u001b[0m in \u001b[0;36mwrapper\u001b[0;34m(*args, **kwargs)\u001b[0m\n\u001b[1;32m    356\u001b[0m                 \u001b[0;34mf\"%(removal)s.  If any parameter follows {name!r}, they \"\u001b[0m\u001b[0;34m\u001b[0m\u001b[0;34m\u001b[0m\u001b[0m\n\u001b[1;32m    357\u001b[0m                 f\"should be pass as keyword, not positionally.\")\n\u001b[0;32m--> 358\u001b[0;31m         \u001b[0;32mreturn\u001b[0m \u001b[0mfunc\u001b[0m\u001b[0;34m(\u001b[0m\u001b[0;34m*\u001b[0m\u001b[0margs\u001b[0m\u001b[0;34m,\u001b[0m \u001b[0;34m**\u001b[0m\u001b[0mkwargs\u001b[0m\u001b[0;34m)\u001b[0m\u001b[0;34m\u001b[0m\u001b[0;34m\u001b[0m\u001b[0m\n\u001b[0m\u001b[1;32m    359\u001b[0m \u001b[0;34m\u001b[0m\u001b[0m\n\u001b[1;32m    360\u001b[0m     \u001b[0;32mreturn\u001b[0m \u001b[0mwrapper\u001b[0m\u001b[0;34m\u001b[0m\u001b[0;34m\u001b[0m\u001b[0m\n",
            "\u001b[0;32m/usr/local/lib/python3.7/dist-packages/matplotlib/axes/_axes.py\u001b[0m in \u001b[0;36mscatter\u001b[0;34m(self, x, y, s, c, marker, cmap, norm, vmin, vmax, alpha, linewidths, verts, edgecolors, plotnonfinite, **kwargs)\u001b[0m\n\u001b[1;32m   4464\u001b[0m                 \u001b[0mself\u001b[0m\u001b[0;34m.\u001b[0m\u001b[0mset_ymargin\u001b[0m\u001b[0;34m(\u001b[0m\u001b[0;36m0.05\u001b[0m\u001b[0;34m)\u001b[0m\u001b[0;34m\u001b[0m\u001b[0;34m\u001b[0m\u001b[0m\n\u001b[1;32m   4465\u001b[0m \u001b[0;34m\u001b[0m\u001b[0m\n\u001b[0;32m-> 4466\u001b[0;31m         \u001b[0mself\u001b[0m\u001b[0;34m.\u001b[0m\u001b[0madd_collection\u001b[0m\u001b[0;34m(\u001b[0m\u001b[0mcollection\u001b[0m\u001b[0;34m)\u001b[0m\u001b[0;34m\u001b[0m\u001b[0;34m\u001b[0m\u001b[0m\n\u001b[0m\u001b[1;32m   4467\u001b[0m         \u001b[0mself\u001b[0m\u001b[0;34m.\u001b[0m\u001b[0m_request_autoscale_view\u001b[0m\u001b[0;34m(\u001b[0m\u001b[0;34m)\u001b[0m\u001b[0;34m\u001b[0m\u001b[0;34m\u001b[0m\u001b[0m\n\u001b[1;32m   4468\u001b[0m \u001b[0;34m\u001b[0m\u001b[0m\n",
            "\u001b[0;32m/usr/local/lib/python3.7/dist-packages/matplotlib/axes/_base.py\u001b[0m in \u001b[0;36madd_collection\u001b[0;34m(self, collection, autolim)\u001b[0m\n\u001b[1;32m   1818\u001b[0m             \u001b[0;31m# Make sure viewLim is not stale (mostly to match\u001b[0m\u001b[0;34m\u001b[0m\u001b[0;34m\u001b[0m\u001b[0;34m\u001b[0m\u001b[0m\n\u001b[1;32m   1819\u001b[0m             \u001b[0;31m# pre-lazy-autoscale behavior, which is not really better).\u001b[0m\u001b[0;34m\u001b[0m\u001b[0;34m\u001b[0m\u001b[0;34m\u001b[0m\u001b[0m\n\u001b[0;32m-> 1820\u001b[0;31m             \u001b[0mself\u001b[0m\u001b[0;34m.\u001b[0m\u001b[0m_unstale_viewLim\u001b[0m\u001b[0;34m(\u001b[0m\u001b[0;34m)\u001b[0m\u001b[0;34m\u001b[0m\u001b[0;34m\u001b[0m\u001b[0m\n\u001b[0m\u001b[1;32m   1821\u001b[0m             \u001b[0mself\u001b[0m\u001b[0;34m.\u001b[0m\u001b[0mupdate_datalim\u001b[0m\u001b[0;34m(\u001b[0m\u001b[0mcollection\u001b[0m\u001b[0;34m.\u001b[0m\u001b[0mget_datalim\u001b[0m\u001b[0;34m(\u001b[0m\u001b[0mself\u001b[0m\u001b[0;34m.\u001b[0m\u001b[0mtransData\u001b[0m\u001b[0;34m)\u001b[0m\u001b[0;34m)\u001b[0m\u001b[0;34m\u001b[0m\u001b[0;34m\u001b[0m\u001b[0m\n\u001b[1;32m   1822\u001b[0m \u001b[0;34m\u001b[0m\u001b[0m\n",
            "\u001b[0;32m/usr/local/lib/python3.7/dist-packages/matplotlib/axes/_base.py\u001b[0m in \u001b[0;36m_unstale_viewLim\u001b[0;34m(self)\u001b[0m\n\u001b[1;32m    593\u001b[0m             \u001b[0;32mfor\u001b[0m \u001b[0max\u001b[0m \u001b[0;32min\u001b[0m \u001b[0mself\u001b[0m\u001b[0;34m.\u001b[0m\u001b[0m_shared_y_axes\u001b[0m\u001b[0;34m.\u001b[0m\u001b[0mget_siblings\u001b[0m\u001b[0;34m(\u001b[0m\u001b[0mself\u001b[0m\u001b[0;34m)\u001b[0m\u001b[0;34m:\u001b[0m\u001b[0;34m\u001b[0m\u001b[0;34m\u001b[0m\u001b[0m\n\u001b[1;32m    594\u001b[0m                 \u001b[0max\u001b[0m\u001b[0;34m.\u001b[0m\u001b[0m_stale_viewlim_y\u001b[0m \u001b[0;34m=\u001b[0m \u001b[0;32mFalse\u001b[0m\u001b[0;34m\u001b[0m\u001b[0;34m\u001b[0m\u001b[0m\n\u001b[0;32m--> 595\u001b[0;31m             \u001b[0mself\u001b[0m\u001b[0;34m.\u001b[0m\u001b[0mautoscale_view\u001b[0m\u001b[0;34m(\u001b[0m\u001b[0mscalex\u001b[0m\u001b[0;34m=\u001b[0m\u001b[0mscalex\u001b[0m\u001b[0;34m,\u001b[0m \u001b[0mscaley\u001b[0m\u001b[0;34m=\u001b[0m\u001b[0mscaley\u001b[0m\u001b[0;34m)\u001b[0m\u001b[0;34m\u001b[0m\u001b[0;34m\u001b[0m\u001b[0m\n\u001b[0m\u001b[1;32m    596\u001b[0m \u001b[0;34m\u001b[0m\u001b[0m\n\u001b[1;32m    597\u001b[0m     \u001b[0;34m@\u001b[0m\u001b[0mproperty\u001b[0m\u001b[0;34m\u001b[0m\u001b[0;34m\u001b[0m\u001b[0m\n",
            "\u001b[0;32m/usr/local/lib/python3.7/dist-packages/matplotlib/axes/_base.py\u001b[0m in \u001b[0;36mautoscale_view\u001b[0;34m(self, tight, scalex, scaley)\u001b[0m\n\u001b[1;32m   2382\u001b[0m                 x_stickies = np.sort(np.concatenate([\n\u001b[1;32m   2383\u001b[0m                     \u001b[0martist\u001b[0m\u001b[0;34m.\u001b[0m\u001b[0msticky_edges\u001b[0m\u001b[0;34m.\u001b[0m\u001b[0mx\u001b[0m\u001b[0;34m\u001b[0m\u001b[0;34m\u001b[0m\u001b[0m\n\u001b[0;32m-> 2384\u001b[0;31m                     \u001b[0;32mfor\u001b[0m \u001b[0max\u001b[0m \u001b[0;32min\u001b[0m \u001b[0mself\u001b[0m\u001b[0;34m.\u001b[0m\u001b[0m_shared_x_axes\u001b[0m\u001b[0;34m.\u001b[0m\u001b[0mget_siblings\u001b[0m\u001b[0;34m(\u001b[0m\u001b[0mself\u001b[0m\u001b[0;34m)\u001b[0m\u001b[0;34m\u001b[0m\u001b[0;34m\u001b[0m\u001b[0m\n\u001b[0m\u001b[1;32m   2385\u001b[0m                     \u001b[0;32mif\u001b[0m \u001b[0mhasattr\u001b[0m\u001b[0;34m(\u001b[0m\u001b[0max\u001b[0m\u001b[0;34m,\u001b[0m \u001b[0;34m\"lines\"\u001b[0m\u001b[0;34m)\u001b[0m\u001b[0;34m\u001b[0m\u001b[0;34m\u001b[0m\u001b[0m\n\u001b[1;32m   2386\u001b[0m                     for artist in ax.get_children()]))\n",
            "\u001b[0;32m<__array_function__ internals>\u001b[0m in \u001b[0;36mconcatenate\u001b[0;34m(*args, **kwargs)\u001b[0m\n",
            "\u001b[0;31mKeyboardInterrupt\u001b[0m: "
          ]
        },
        {
          "output_type": "display_data",
          "data": {
            "image/png": "[encoded data removed]",
            "text/plain": [
              "<Figure size 432x288 with 1 Axes>"
            ]
          },
          "metadata": {
            "needs_background": "light"
          }
        }
      ]
    },
    {
      "cell_type": "code",
      "source": [
        "sub = x_train_emnist.shape[0] / 8 * 2\n",
        "int(sub)"
      ],
      "metadata": {
        "colab": {
          "base_uri": "https://localhost:8080/"
        },
        "id": "65KHfwLUNvrE",
        "outputId": "067c7b3f-6151-43d7-d0fb-819aa9b684e1"
      },
      "id": "65KHfwLUNvrE",
      "execution_count": 143,
      "outputs": [
        {
          "output_type": "execute_result",
          "data": {
            "text/plain": [
              "192"
            ]
          },
          "metadata": {},
          "execution_count": 143
        }
      ]
    },
    {
      "cell_type": "code",
      "source": [
        "emnist_svm = SVM(x_train_emnist[:192], y_train_emnist[:192], 2)\n",
        "emnist_svm.SVM()"
      ],
      "metadata": {
        "colab": {
          "base_uri": "https://localhost:8080/"
        },
        "id": "vt3QzoQ_z37O",
        "outputId": "c7ae7687-efe3-4bc1-d70b-0f057d31f8d1"
      },
      "id": "vt3QzoQ_z37O",
      "execution_count": 158,
      "outputs": [
        {
          "output_type": "stream",
          "name": "stdout",
          "text": [
            "0.7604166666666666\n",
            "98\n",
            "94\n"
          ]
        }
      ]
    },
    {
      "cell_type": "code",
      "source": [
        "emnist_label = ['a', 'b', 'c', 'd', 'e', 'f', 'g', 'h', 'sv']\n",
        "emnist_svm.Plot(emnist_label)"
      ],
      "metadata": {
        "colab": {
          "base_uri": "https://localhost:8080/",
          "height": 281
        },
        "id": "9M-euLoK0_y8",
        "outputId": "e1e26f4f-4902-4d19-c7cb-78311c4bd862"
      },
      "id": "9M-euLoK0_y8",
      "execution_count": 159,
      "outputs": [
        {
          "output_type": "display_data",
          "data": {
            "image/png": "[encoded data removed]",
            "text/plain": [
              "<Figure size 432x288 with 1 Axes>"
            ]
          },
          "metadata": {
            "needs_background": "light"
          }
        }
      ]
    },
    {
      "cell_type": "code",
      "execution_count": null,
      "metadata": {
        "id": "a2bb551a"
      },
      "outputs": [],
      "source": [
        "# for FCNN"
      ],
      "id": "a2bb551a"
    },
    {
      "cell_type": "code",
      "execution_count": 17,
      "metadata": {
        "id": "WPGGsC1DSUgw"
      },
      "outputs": [],
      "source": [
        "class FCNN():\n",
        "    def __init__(self, x, y, classes=2, minibatch=280, h1=20, h2=10):\n",
        "        # data parameter\n",
        "        self.x, self.y = x, y\n",
        "        self.size = x.shape[0] # dataset size\n",
        "        self.D = x.shape[1] # dataset features (dimension)\n",
        "        self.classes = classes # number of classes\n",
        "        self.minibatch = minibatch\n",
        "        \n",
        "        # hidden layer parameters\n",
        "        self.h1, self.h2 = h1, h2 # number of hidden units in first and second hidden layers\n",
        "        self.W0 = np.random.uniform(size=(self.D, self.h1)) / 100\n",
        "        self.W1 = np.random.uniform(size=(self.h1, self.h2)) / self.h1\n",
        "        self.Wout = np.random.uniform(size=(self.h2, classes)) / self.h2\n",
        "        #self.W0 = np.zeros((self.D, self.h1))\n",
        "        #self.W1 = np.zeros((self.h1, self.h2))\n",
        "        #self.Wout = np.zeros((self.h2, classes))\n",
        "        \n",
        "        self.b0 = np.zeros((1, h1))\n",
        "        self.b1 = np.zeros((1, h2))\n",
        "        self.bout = np.zeros((1, classes))\n",
        "        \n",
        "        # performance parameter\n",
        "        self.eta = 0.0025\n",
        "        self.label_class = np.argmax(self.y, axis=1)\n",
        "        self.loss, self.precision = [], []\n",
        "    \n",
        "    # hidden layer operation\n",
        "    def Hidden_layer(self, x, w, b):\n",
        "        return np.dot(x, w) + b\n",
        "    \n",
        "    # activation function of hidden layer\n",
        "    def Sigmoid(self, x):\n",
        "        return 1 / (1 + np.exp(-x))\n",
        "    \n",
        "    # activation function\n",
        "    def ReLU(self, x):\n",
        "        r = np.empty_like(x)\n",
        "        for i in range(x.shape[0]):\n",
        "            for j in range(x.shape[1]):\n",
        "                if x[i,j] > 0:\n",
        "                    r[i,j] = x[i,j]\n",
        "                else:\n",
        "                    r[i,j] = 0\n",
        "        return r\n",
        "    \n",
        "    # softmax function for output layer\n",
        "    # z is the unnormalized probability\n",
        "    def Softmax(self, z):\n",
        "        exp_z = np.exp(z)\n",
        "        exp_sum = np.sum(exp_z, axis=1).reshape(np.shape(exp_z)[0], 1)\n",
        "        return exp_z / exp_sum\n",
        "    \n",
        "    # calculate cross-entropy loss and save it during training\n",
        "    def Cross_entropy(self):  # y have pass through softmax function\n",
        "        E = 0\n",
        "        q = np.log2(self.y_pred.T)\n",
        "        for i in range(self.size):\n",
        "            E -= self.y[i][0] * q[0][i] + self.y[i][1] * q[1][i]\n",
        "        self.loss.append(E)\n",
        "    \n",
        "    # calculate the classification accuracy\n",
        "    def Precision(self):\n",
        "        # convert one-hot to classes\n",
        "        y_pred_class = np.argmax(self.y_pred, axis=1)\n",
        "        count = 0\n",
        "        for i in range(self.size):\n",
        "            if y_pred_class[i] == self.label_class[i]:\n",
        "                count += 1\n",
        "        self.precision.append(count / self.size)\n",
        "    \n",
        "    # gradient of (softmax + cross-entropy) loss\n",
        "    def Softmax_CrossEntropy_Derivative(self, y_pred, y):\n",
        "        return y_pred - y\n",
        "    \n",
        "    # activation function derivative\n",
        "    def Sigmoid_Derivative(self, x):\n",
        "        return self.Sigmoid(x) * (1 - self.Sigmoid(x))\n",
        "    \n",
        "    # weight derivative\n",
        "    def Weight_Gradient(self, a, y):\n",
        "        return np.dot(a.T, y)\n",
        "    \n",
        "    # bias derivative\n",
        "    def Bias_Gradient(self, y):\n",
        "        return np.sum(y, axis=0)\n",
        "    \n",
        "    def Debug(self):\n",
        "        if self.count == 1 or self.count == 10:\n",
        "            for i in range(5):\n",
        "                print(i)\n",
        "                for j in range(self.h1):\n",
        "                    print(self.a0[i,j], end=' ')\n",
        "                print()\n",
        "            print('-'*20)\n",
        "    \n",
        "    # forward-propagation\n",
        "    def Forward(self):\n",
        "        # first hidden layer\n",
        "        self.a0 = self.Hidden_layer(self.x, self.W0, self.b0)\n",
        "        self.y0 = self.Sigmoid(self.a0)\n",
        "        #self.y0 = self.ReLU(self.a0)\n",
        "        \n",
        "        # second hidden layer\n",
        "        self.a1 = self.Hidden_layer(self.y0, self.W1, self.b1)\n",
        "        self.y1 = self.Sigmoid(self.a1)\n",
        "        #self.y1 = self.ReLU(self.a1)\n",
        "        \n",
        "        # output layer\n",
        "        self.aout = self.Hidden_layer(self.y1, self.Wout, self.bout)\n",
        "        #tt = np.argmax(self.aout, axis=1)\n",
        "        #print(self.aout)\n",
        "        self.y_pred = self.Softmax(self.aout)\n",
        "        \n",
        "        self.Cross_entropy()\n",
        "        self.Precision()\n",
        "    \n",
        "    def Derivative_sigmoid(self, x):\n",
        "        return self.Sigmoid(x) * (1-self.Sigmoid(x))\n",
        "    \n",
        "    # backward-propagation\n",
        "    def Backward(self):\n",
        "        # create minibatch data\n",
        "        sgd_x = np.zeros((self.minibatch, self.D))\n",
        "        sgd_a0 = np.zeros((self.minibatch, self.h1))\n",
        "        sgd_y0 = np.zeros((self.minibatch, self.h1))\n",
        "        sgd_a1 = np.zeros((self.minibatch, self.h2))\n",
        "        sgd_y1 = np.zeros((self.minibatch, self.h2))\n",
        "        sgd_y_pred = np.zeros((self.minibatch, self.classes))\n",
        "        sgd_y = np.zeros((self.minibatch, self.classes))\n",
        "        \n",
        "        # randomly choose minibatch data to update gradient\n",
        "        rand_index = np.random.choice(self.size, self.minibatch, replace=False)\n",
        "        \n",
        "        for i in range(len(rand_index)):\n",
        "            sgd_x[i, :] = self.x[rand_index[i], :]\n",
        "            sgd_a0[i, :] = self.a0[rand_index[i], :]\n",
        "            sgd_y0[i, :] = self.y0[rand_index[i], :]\n",
        "            sgd_a1[i, :] = self.a1[rand_index[i], :]\n",
        "            sgd_y1[i, :] = self.y1[rand_index[i], :]\n",
        "            sgd_y_pred[i, :] = self.y_pred[rand_index[i], :]\n",
        "            sgd_y[i, :] = self.y[rand_index[i], :]\n",
        "        \n",
        "#        if self.count == 3 or self.count == 1:\n",
        "#            for j in range(10):\n",
        "#                for i in range(sgd_y_pred.shape[1]):\n",
        "#                    print(sgd_y_pred[j, i], end=' ')\n",
        "#               print()\n",
        "#                for i in range(sgd_y.shape[1]):\n",
        "#                    print(sgd_y[j, i], end=' ')\n",
        "#                print()\n",
        "#        print('-'*10)\n",
        "\n",
        "        # calculate gradient for each parameter\n",
        "        grad_y_pred = sgd_y_pred - sgd_y  # minibatch * 2\n",
        "        grad_wout = np.dot(sgd_y1.T, grad_y_pred)  # H2 * 2\n",
        "        grad_bout = np.sum(grad_y_pred, axis=0)  # 1 * 2\n",
        "\n",
        "        grad_y1 = np.dot(grad_y_pred, self.Wout.T) * self.Derivative_sigmoid(sgd_a1) # minibatch * H2\n",
        "        grad_w1 = np.dot(sgd_y0.T, grad_y1)  # H1 * H2\n",
        "        grad_b1 = np.sum(grad_y1, axis=0)  # 1* H2\n",
        "\n",
        "        grad_y0 = np.dot(grad_y1, self.W1.T) * self.Derivative_sigmoid(sgd_a0) # minibatch * H\n",
        "        grad_w0 = np.dot(sgd_x.T, grad_y0)  # D * H1\n",
        "        grad_b0 = np.sum(grad_y0, axis=0)  # 1* H1\n",
        "    \n",
        "        # update weights and bias\n",
        "        self.W0 -= grad_w0 * self.eta\n",
        "        self.b0 -= grad_b0 * self.eta\n",
        "        \n",
        "        self.W1 -= grad_w1 * self.eta\n",
        "        self.b1 -= grad_b1 * self.eta\n",
        "        \n",
        "        self.Wout -= grad_wout * self.eta\n",
        "        self.bout -= grad_bout * self.eta\n",
        "    \n",
        "    # plot learning curve\n",
        "    def Plot(self):\n",
        "        x_axis = list(range(self.epoch))\n",
        "        \n",
        "        # plot learning curve\n",
        "        plt.subplot(1, 2, 1)\n",
        "        plt.plot(x_axis, self.loss, color='blue', label='training loss')\n",
        "        #plt.plot(x_axis, self.test_loss, color='orange', label='testing loss')\n",
        "        plt.legend()\n",
        "        \n",
        "        # plot precision curve\n",
        "        plt.subplot(1, 2, 2)\n",
        "        percetage = [round(i, 2)*100 for i in self.precision]\n",
        "        #percetage_test = [round(i, 2)*100 for i in self.test_precision]\n",
        "        plt.plot(x_axis, percetage, color='blue', label='training accuracy')\n",
        "        #plt.plot(x_axis, percetage_test, color='orange', label='testing accuracy')\n",
        "        plt.legend()\n",
        "\n",
        "        plt.show()\n",
        "    \n",
        "    # output final loss and accuracy\n",
        "    def Final_Result(self):\n",
        "        print('Final training   loss   = ' + str(self.loss[self.epoch-1]))\n",
        "        percentage = round(self.precision[self.epoch-1], 4) * 100\n",
        "        print('Final training accuracy = ' + str(percentage) + ' %')\n",
        "    \n",
        "    # training main function\n",
        "    def Training(self, epoch):\n",
        "        self.epoch = epoch\n",
        "        self.count = 0\n",
        "        # training\n",
        "        for i in range(self.epoch):\n",
        "            #print(i)\n",
        "            self.count += 1\n",
        "            self.Forward()\n",
        "            self.Backward()\n",
        "        \n",
        "        # plot loss and accuracy\n",
        "        self.Plot()\n",
        "        self.Final_Result()"
      ],
      "id": "WPGGsC1DSUgw"
    },
    {
      "cell_type": "code",
      "execution_count": null,
      "metadata": {
        "id": "kYyayix5Seon"
      },
      "outputs": [],
      "source": [
        "fcnn_emnist = FCNN(x_train_emnist, y_train_emnist, classes=8, minibatch=64, h1=2048, h2=4096)\n",
        "fcnn_emnist.Training(epoch=3000)"
      ],
      "id": "kYyayix5Seon"
    },
    {
      "cell_type": "code",
      "execution_count": 11,
      "metadata": {
        "id": "d788cf21"
      },
      "outputs": [],
      "source": [
        "# for CNN\n",
        "import tensorflow as tf\n",
        "import keras\n",
        "import numpy as np\n",
        "import matplotlib.pyplot as plt\n",
        "import random\n",
        "\n",
        "from tensorflow.keras.utils import to_categorical\n",
        "from keras.models import Sequential\n",
        "from keras.layers import Conv2D, MaxPooling2D, Flatten, Dense, Dropout"
      ],
      "id": "d788cf21"
    },
    {
      "cell_type": "code",
      "execution_count": 33,
      "metadata": {
        "id": "MqfobDcFSLg6"
      },
      "outputs": [],
      "source": [
        "class EMNIST_CNN():\n",
        "  def __init__(self, x, y):\n",
        "    self.x_train, self.y_train, self.x_valid, self.y_valid = self.Split_Dataset(x, y)\n",
        "    self.model = self.EMNIST_Model()\n",
        "  \n",
        "  # splid data into training and validation set\n",
        "  def Split_Dataset(self, x, y):\n",
        "    # random shuffle\n",
        "    index = np.arange(x.shape[0]) # create an integer list from 0 ~ t_len\n",
        "    np.random.shuffle(index)\n",
        "    x = x[index]\n",
        "    y = y[index]\n",
        "\n",
        "    # seperate temp set to training and validation set\n",
        "    total_length = x.shape[0]\n",
        "    training_length = int(x.shape[0]*0.9)\n",
        "    x_train = x[:training_length]\n",
        "    y_train = y[:training_length]\n",
        "    x_valid = x[training_length:total_length]\n",
        "    y_valid = y[training_length:total_length]\n",
        "\n",
        "    return x_train, y_train, x_valid, y_valid\n",
        "\n",
        "  # construct CNN model for EMNIST\n",
        "  def EMNIST_Model(self, output_size=8):\n",
        "      # model construction\n",
        "      model = Sequential()\n",
        "\n",
        "      # first layer (conv)\n",
        "      model.add(Conv2D(32, (3,3), padding='same', activation='relu'))\n",
        "      model.add(MaxPooling2D(pool_size = (2,2)))\n",
        "\n",
        "      # second layer (conv)\n",
        "      model.add(Conv2D(64, (3,3), padding='same', activation='relu'))\n",
        "      model.add(MaxPooling2D(pool_size = (2,2)))\n",
        "      model.add(Flatten())\n",
        "      \n",
        "      # third layer (fully)\n",
        "      model.add(Dense(64, activation='relu'))\n",
        "      model.add(Dropout(0.5))\n",
        "\n",
        "      # output layer (fully)\n",
        "      model.add(Dense(output_size, activation='softmax'))\n",
        "      \n",
        "      # compile model\n",
        "      model.compile(optimizer='adam', loss='categorical_crossentropy', metrics=['accuracy'])\n",
        "      \n",
        "      return model\n",
        "  \n",
        "  # training process\n",
        "  def Training(self, epoch=50):\n",
        "    self.history = self.model.fit(self.x_train, self.y_train, epochs=epoch, batch_size=32, validation_data=(self.x_valid, self.y_valid))\n",
        "\n",
        "  # plot learning information\n",
        "  def Plot(self):\n",
        "    # plot learning curve\n",
        "    plt.plot(self.history.history['loss'], color='blue', label='training loss')\n",
        "    plt.title('Learning Curve')\n",
        "    plt.xlabel('epochs')\n",
        "    plt.ylabel('cross-entropy loss')\n",
        "    plt.legend()\n",
        "    plt.show()\n",
        "\n",
        "    plt.plot(self.history.history['accuracy'], color='blue', label='training accuracy')\n",
        "    plt.plot(self.history.history['val_accuracy'], color='red', label='validation accuracy')\n",
        "    plt.title('Accuracy')\n",
        "    plt.xlabel('epochs')\n",
        "    plt.ylabel('Accuracy rate')\n",
        "    plt.legend()\n",
        "    plt.show()"
      ],
      "id": "MqfobDcFSLg6"
    },
    {
      "cell_type": "code",
      "source": [
        "emnist_cnn = EMNIST_CNN(x_train_2d_emnist, y_train_2d_emnist)\n",
        "emnist_cnn.Training()"
      ],
      "metadata": {
        "id": "4uZd5T0lI0qR"
      },
      "id": "4uZd5T0lI0qR",
      "execution_count": null,
      "outputs": []
    },
    {
      "cell_type": "code",
      "source": [
        "emnist_cnn.Plot()"
      ],
      "metadata": {
        "id": "nY_mY5_DKMCB"
      },
      "id": "nY_mY5_DKMCB",
      "execution_count": null,
      "outputs": []
    },
    {
      "cell_type": "code",
      "execution_count": null,
      "metadata": {
        "id": "b4632532"
      },
      "outputs": [],
      "source": [
        "# The following parts are about CIFAR-10 dataset"
      ],
      "id": "b4632532"
    },
    {
      "cell_type": "code",
      "execution_count": 12,
      "metadata": {
        "id": "b8b15fed"
      },
      "outputs": [],
      "source": [
        "# load data from the specified dataset in Keras\n",
        "def Load_Keras_Dataset(dataset, dimension, size=32, channel=3):\n",
        "    (x_train, y_train), (x_test, y_test) = dataset.load_data()\n",
        "    # normalize (preprocessing)\n",
        "    x_train = x_train / 255.0\n",
        "    x_test = x_test / 255.0\n",
        "\n",
        "    # random shuffle training data\n",
        "    index = np.arange(x_train.shape[0]) # create an integer list from 0 ~ total\n",
        "    np.random.shuffle(index)\n",
        "    x_train = np.array([x_train[i] for i in index])\n",
        "    y_train = np.array([y_train[i] for i in index])\n",
        "    \n",
        "    # if not applying CNN, then flatten input image to 1D array\n",
        "    if dimension == 1:\n",
        "        x_train_flatten, x_test_flatten = [], []\n",
        "        for i in range(x_train.shape[0]):\n",
        "            x_train_flatten.append(x_train[i].flatten())\n",
        "        x_train = np.array(x_train_flatten)\n",
        "        for i in range(x_test.shape[0]):\n",
        "            x_test_flatten.append(x_test[i].flatten())\n",
        "        x_test = np.array(x_test_flatten)\n",
        "    elif dimension == 2:\n",
        "      x_train = x_train.reshape((x_train.shape[0], size, size, channel))\n",
        "      x_test = x_test.reshape((x_test.shape[0], size, size, channel))\n",
        "\n",
        "    # one-hot encoding\n",
        "    y_original = np.copy(y_train)\n",
        "    classes = 10\n",
        "    y_train = One_hot_encoding(y_train, classes)\n",
        "    y_test = One_hot_encoding(y_test, classes)\n",
        "\n",
        "    # extract corresponding target for svm\n",
        "    x1 = [x_train[i,:] for i in range(x_train.shape[0]) if y_original[i] == 1]\n",
        "    x2 = [x_train[i,:] for i in range(x_train.shape[0]) if y_original[i] == 2]\n",
        "    x_svm = np.array(x1 + x2)\n",
        "    y1 = [y_train[i,:] for i in range(x_train.shape[0]) if y_original[i] == 1]\n",
        "    y2 = [y_train[i,:] for i in range(x_train.shape[0]) if y_original[i] == 2]\n",
        "    y_svm = np.array(y1 + y2)\n",
        "\n",
        "    # random shuffle svm and take 1000 data only\n",
        "    index = np.random.choice(range(x_svm.shape[0]), 1000, replace=False)\n",
        "    x_svm_cifar = np.array([x_svm[c,:] for c in index])\n",
        "    y_svm_cifar = np.array([y_svm[c,:] for c in index])\n",
        "\n",
        "    #return x_train, y_train, x_test, y_test, x_svm_cifar[:1000], y_svm_cifar[:1000]\n",
        "    return x_train, y_train, x_test, y_test, x_train[:1000], y_train[:1000]"
      ],
      "id": "b8b15fed"
    },
    {
      "cell_type": "code",
      "execution_count": 13,
      "metadata": {
        "id": "8f7d9ed2",
        "colab": {
          "base_uri": "https://localhost:8080/"
        },
        "outputId": "d61e78ae-d892-48d2-b50e-b9a7779f854d"
      },
      "outputs": [
        {
          "output_type": "stream",
          "name": "stdout",
          "text": [
            "Downloading data from https://www.cs.toronto.edu/~kriz/cifar-10-python.tar.gz\n",
            "170500096/170498071 [==============================] - 4s 0us/step\n",
            "170508288/170498071 [==============================] - 4s 0us/step\n"
          ]
        }
      ],
      "source": [
        "x_train_cifar, y_train_cifar, x_test_cifar, y_test_cifar, x_small_cifar, y_small_cifar = Load_Keras_Dataset(tf.keras.datasets.cifar10, 1)\n",
        "x_train_cifar2d, y_train_cifar2d, x_test_cifar2d, y_test_cifar2d, s1, s2 = Load_Keras_Dataset(tf.keras.datasets.cifar10, 2)"
      ],
      "id": "8f7d9ed2"
    },
    {
      "cell_type": "code",
      "execution_count": 47,
      "metadata": {
        "id": "68c1c666"
      },
      "outputs": [],
      "source": [
        "# Least square method"
      ],
      "id": "68c1c666"
    },
    {
      "cell_type": "code",
      "execution_count": 111,
      "metadata": {
        "colab": {
          "base_uri": "https://localhost:8080/"
        },
        "id": "73a1f952",
        "outputId": "af91e02e-19da-450c-f8e2-b25d03728dfd"
      },
      "outputs": [
        {
          "output_type": "stream",
          "name": "stdout",
          "text": [
            "For training data : \n",
            "\tThe classification accuarcy = 50.94%\n",
            "\tThe classification loss     = 0.3647\n",
            "For   test   data : \n",
            "\tThe classification accuarcy = 36.370000000000005%\n",
            "\tThe classification loss     = 0.4166\n"
          ]
        }
      ],
      "source": [
        "LS_train_cifar = LS(x_train_cifar, y_train_cifar, 'training')\n",
        "LS_train_cifar.LS_Method()\n",
        "LS_W_cifar = LS_train_cifar.Get_Weight()\n",
        "\n",
        "LS_test_cifar = LS(x_test_cifar, y_test_cifar, '  test  ')\n",
        "LS_test_cifar.Training_Weight(LS_W_cifar)\n",
        "LS_test_cifar.LS_Method()"
      ],
      "id": "73a1f952"
    },
    {
      "cell_type": "code",
      "source": [
        "print(x_small_cifar.shape)\n",
        "LS_train_small = LS(x_small_cifar, y_small_cifar, 'training')\n",
        "LS_train_small.LS_Method()\n",
        "LS_W_small = LS_train_small.Get_Weight()\n",
        "\n",
        "LS_test_cifar = LS(x_test_cifar, y_test_cifar, '  test  ')\n",
        "LS_test_cifar.Training_Weight(LS_W_small)\n",
        "LS_test_cifar.LS_Method()"
      ],
      "metadata": {
        "colab": {
          "base_uri": "https://localhost:8080/"
        },
        "id": "iMdaJTg-oHTN",
        "outputId": "249c5173-e321-4f8c-9737-79212ddd5082"
      },
      "id": "iMdaJTg-oHTN",
      "execution_count": 119,
      "outputs": [
        {
          "output_type": "stream",
          "name": "stdout",
          "text": [
            "(100, 3072)\n",
            "For training data : \n",
            "\tThe classification accuarcy = 100.0%\n",
            "\tThe classification loss     = 0.0\n",
            "For   test   data : \n",
            "\tThe classification accuarcy = 19.86%\n",
            "\tThe classification loss     = 0.7421\n"
          ]
        }
      ]
    },
    {
      "cell_type": "code",
      "execution_count": null,
      "metadata": {
        "id": "06dd4773"
      },
      "outputs": [],
      "source": [
        "# logistic regression"
      ],
      "id": "06dd4773"
    },
    {
      "cell_type": "code",
      "execution_count": 41,
      "metadata": {
        "colab": {
          "base_uri": "https://localhost:8080/",
          "height": 319
        },
        "id": "c796d9ab",
        "outputId": "e4fb84a3-9569-4cbd-8e63-a7081de98e54"
      },
      "outputs": [
        {
          "output_type": "stream",
          "name": "stdout",
          "text": [
            "For Minibatch SGD :\n"
          ]
        },
        {
          "output_type": "display_data",
          "data": {
            "image/png": "[encoded data removed]",
            "text/plain": [
              "<Figure size 432x288 with 2 Axes>"
            ]
          },
          "metadata": {
            "needs_background": "light"
          }
        },
        {
          "output_type": "stream",
          "name": "stdout",
          "text": [
            "for training data, the final classification accuracy = 0.472, and loss = 2.36351\n",
            "for testing  data, the final classification accuracy = 0.3211, and loss = 2.77429\n"
          ]
        }
      ],
      "source": [
        "# use minibatch stochastic gradient as optimizer\n",
        "epoch = 1000\n",
        "eta_cifar = 8e-5\n",
        "Minibatch_SGD_cifar = Logistic_Regression(x_small_cifar, y_small_cifar, x_test_cifar, y_test_cifar, 10, eta_cifar)\n",
        "Minibatch_SGD_cifar.Training(epoch, 'Minibatch SGD', minibatch=64)"
      ],
      "id": "c796d9ab"
    },
    {
      "cell_type": "code",
      "execution_count": null,
      "metadata": {
        "id": "Ctz-K8KvVBhF"
      },
      "outputs": [],
      "source": [
        "# SVM"
      ],
      "id": "Ctz-K8KvVBhF"
    },
    {
      "cell_type": "code",
      "source": [
        "cifar_svm = SVM(x_svm_cifar, y_svm_cifar, 10)\n",
        "cifar_svm.SVM()"
      ],
      "metadata": {
        "colab": {
          "base_uri": "https://localhost:8080/"
        },
        "id": "Hl50fB6ikmiW",
        "outputId": "dbdffe1c-0cc9-4d08-a4ab-d46e1b4a55e5"
      },
      "id": "Hl50fB6ikmiW",
      "execution_count": null,
      "outputs": [
        {
          "output_type": "stream",
          "name": "stdout",
          "text": [
            "0.1979\n",
            "1592\n",
            "1417\n",
            "670\n",
            "131\n",
            "427\n",
            "969\n",
            "2166\n",
            "1143\n",
            "809\n",
            "676\n"
          ]
        }
      ]
    },
    {
      "cell_type": "code",
      "source": [
        "cifar_label = ['airplane', 'automobile', 'bird', 'cat', 'deer', 'dog', 'frog', 'horse', 'ship', 'truck', 'sv']\n",
        "cifar_svm.Plot(cifar_label)"
      ],
      "metadata": {
        "colab": {
          "base_uri": "https://localhost:8080/",
          "height": 281
        },
        "id": "ehmkNAF5k_cr",
        "outputId": "73fbb84f-1dea-4551-f853-82ef28bedaa7"
      },
      "id": "ehmkNAF5k_cr",
      "execution_count": null,
      "outputs": [
        {
          "output_type": "display_data",
          "data": {
            "image/png": "[encoded data removed]",
            "text/plain": [
              "<Figure size 432x288 with 1 Axes>"
            ]
          },
          "metadata": {
            "needs_background": "light"
          }
        }
      ]
    },
    {
      "cell_type": "code",
      "execution_count": null,
      "metadata": {
        "id": "B9dtrj7AVDmK"
      },
      "outputs": [],
      "source": [
        "# FCNN"
      ],
      "id": "B9dtrj7AVDmK"
    },
    {
      "cell_type": "code",
      "source": [
        "fcnn_cifar = FCNN(x_small_cifar, y_small_cifar, classes=10, minibatch=64, h1=256, h2=512)\n",
        "fcnn_cifar.Training(epoch=500)"
      ],
      "metadata": {
        "colab": {
          "base_uri": "https://localhost:8080/",
          "height": 300
        },
        "id": "YdFKce0Bw2mp",
        "outputId": "fada22f5-a039-4c34-c8a9-554241053dd5"
      },
      "id": "YdFKce0Bw2mp",
      "execution_count": 19,
      "outputs": [
        {
          "output_type": "display_data",
          "data": {
            "image/png": "[encoded data removed]",
            "text/plain": [
              "<Figure size 432x288 with 2 Axes>"
            ]
          },
          "metadata": {
            "needs_background": "light"
          }
        },
        {
          "output_type": "stream",
          "name": "stdout",
          "text": [
            "Final training   loss   = 647.5005419429727\n",
            "Final training accuracy = 10.2 %\n"
          ]
        }
      ]
    },
    {
      "cell_type": "code",
      "execution_count": null,
      "metadata": {
        "id": "0dTMx_qaVDwI"
      },
      "outputs": [],
      "source": [
        "# CNN"
      ],
      "id": "0dTMx_qaVDwI"
    },
    {
      "cell_type": "code",
      "execution_count": 23,
      "metadata": {
        "id": "7OfvCRctVG_Z"
      },
      "outputs": [],
      "source": [
        "class CIFAR_CNN():\n",
        "  def __init__(self, x, y):\n",
        "    self.x_train, self.y_train, self.x_valid, self.y_valid = self.Split_Dataset(x, y)\n",
        "    self.model = self.CIFAR_Model()\n",
        "  \n",
        "  # splid data into training and validation set\n",
        "  def Split_Dataset(self, x, y):\n",
        "    # random shuffle\n",
        "    index = np.arange(x.shape[0]) # create an integer list from 0 ~ t_len\n",
        "    np.random.shuffle(index)\n",
        "    x = x[index]\n",
        "    y = y[index]\n",
        "\n",
        "    # seperate temp set to training and validation set\n",
        "    total_length = x.shape[0]\n",
        "    training_length = int(x.shape[0]*0.9)\n",
        "    x_train = x[:training_length]\n",
        "    y_train = y[:training_length]\n",
        "    x_valid = x[training_length:total_length]\n",
        "    y_valid = y[training_length:total_length]\n",
        "\n",
        "    return x_train, y_train, x_valid, y_valid\n",
        "\n",
        "  # construct CNN model for CIFAR-10\n",
        "  def CIFAR_Model(self, output_size=10):\n",
        "    # model construction\n",
        "    model = Sequential()\n",
        "\n",
        "    # first layer (conv), input_shape=(32, 32, 3)\n",
        "    model.add(Conv2D(64, (3,3), padding='same', activation='relu'))\n",
        "    model.add(Conv2D(64, (3,3), padding='same', activation='relu'))\n",
        "    model.add(MaxPooling2D(pool_size = (2,2)))\n",
        "\n",
        "    # second layer (conv)\n",
        "    model.add(Conv2D(128, (3,3), padding='same', activation='relu'))\n",
        "    model.add(Conv2D(128, (3,3), padding='same', activation='relu'))\n",
        "    model.add(MaxPooling2D(pool_size = (2,2)))\n",
        "    \n",
        "    # third layer (conv)\n",
        "    model.add(Conv2D(128, (3,3), padding='same', activation='relu'))\n",
        "    model.add(Conv2D(128, (3,3), padding='same', activation='relu'))\n",
        "    model.add(MaxPooling2D(pool_size = (2,2)))\n",
        "    model.add(Flatten())\n",
        "    \n",
        "    # fourth layer (fully)\n",
        "    model.add(Dense(256, activation='relu'))\n",
        "    model.add(Dropout(0.2))\n",
        "\n",
        "    # output layer (fully)\n",
        "    model.add(Dense(output_size, activation='softmax'))\n",
        "    \n",
        "    # compile model\n",
        "    model.compile(optimizer='adam', loss='categorical_crossentropy', metrics=['accuracy'])\n",
        "    \n",
        "    return model\n",
        "  \n",
        "  # training process\n",
        "  def Training(self, epoch=50):\n",
        "    self.history = self.model.fit(self.x_train, self.y_train, epochs=epoch, batch_size=32, validation_data=(self.x_valid, self.y_valid))\n",
        "\n",
        "  # plot learning information\n",
        "  def Plot(self):\n",
        "    # plot learning curve\n",
        "    plt.plot(self.history.history['loss'], color='blue', label='training loss')\n",
        "    plt.title('Learning Curve')\n",
        "    plt.xlabel('epochs')\n",
        "    plt.ylabel('cross-entropy loss')\n",
        "    plt.legend()\n",
        "    plt.show()\n",
        "\n",
        "    plt.plot(self.history.history['accuracy'], color='blue', label='training accuracy')\n",
        "    plt.plot(self.history.history['val_accuracy'], color='red', label='validation accuracy')\n",
        "    plt.title('Accuracy')\n",
        "    plt.xlabel('epochs')\n",
        "    plt.ylabel('Accuracy rate')\n",
        "    plt.legend()\n",
        "    plt.show()"
      ],
      "id": "7OfvCRctVG_Z"
    },
    {
      "cell_type": "code",
      "source": [
        "p = EMNIST_CNN(x_train_2d_emnist, y_train_2d_emnist)"
      ],
      "metadata": {
        "id": "MT6UGLI18gBe"
      },
      "id": "MT6UGLI18gBe",
      "execution_count": 37,
      "outputs": []
    },
    {
      "cell_type": "code",
      "source": [
        "p.model.build((64, 32, 32, 3))\n",
        "p.model.summary()"
      ],
      "metadata": {
        "colab": {
          "base_uri": "https://localhost:8080/"
        },
        "id": "Z9mfxcjH8nLD",
        "outputId": "3687aa39-4b27-4736-9061-8dbe842b86c9"
      },
      "id": "Z9mfxcjH8nLD",
      "execution_count": 38,
      "outputs": [
        {
          "output_type": "stream",
          "name": "stdout",
          "text": [
            "Model: \"sequential_2\"\n",
            "_________________________________________________________________\n",
            " Layer (type)                Output Shape              Param #   \n",
            "=================================================================\n",
            " conv2d_12 (Conv2D)          (64, 32, 32, 32)          896       \n",
            "                                                                 \n",
            " max_pooling2d_6 (MaxPooling  (64, 16, 16, 32)         0         \n",
            " 2D)                                                             \n",
            "                                                                 \n",
            " conv2d_13 (Conv2D)          (64, 16, 16, 64)          18496     \n",
            "                                                                 \n",
            " max_pooling2d_7 (MaxPooling  (64, 8, 8, 64)           0         \n",
            " 2D)                                                             \n",
            "                                                                 \n",
            " flatten_2 (Flatten)         (64, 4096)                0         \n",
            "                                                                 \n",
            " dense_4 (Dense)             (64, 64)                  262208    \n",
            "                                                                 \n",
            " dropout_2 (Dropout)         (64, 64)                  0         \n",
            "                                                                 \n",
            " dense_5 (Dense)             (64, 8)                   520       \n",
            "                                                                 \n",
            "=================================================================\n",
            "Total params: 282,120\n",
            "Trainable params: 282,120\n",
            "Non-trainable params: 0\n",
            "_________________________________________________________________\n"
          ]
        }
      ]
    },
    {
      "cell_type": "code",
      "execution_count": null,
      "metadata": {
        "id": "thRUI1JOYUAc"
      },
      "outputs": [],
      "source": [
        "cifar_cnn = CIFAR_CNN(x_train_cifar2d, y_train_cifar2d)\n",
        "cifar_cnn.Training()"
      ],
      "id": "thRUI1JOYUAc"
    },
    {
      "cell_type": "code",
      "source": [
        "cifar_cnn.Plot()"
      ],
      "metadata": {
        "id": "_kqT5fxzRI6u"
      },
      "id": "_kqT5fxzRI6u",
      "execution_count": null,
      "outputs": []
    }
  ],
  "metadata": {
    "colab": {
      "collapsed_sections": [],
      "name": "AI EMNIST.ipynb",
      "provenance": []
    },
    "kernelspec": {
      "display_name": "Python 3",
      "language": "python",
      "name": "python3"
    },
    "language_info": {
      "codemirror_mode": {
        "name": "ipython",
        "version": 3
      },
      "file_extension": ".py",
      "mimetype": "text/x-python",
      "name": "python",
      "nbconvert_exporter": "python",
      "pygments_lexer": "ipython3",
      "version": "3.8.8"
    }
  },
  "nbformat": 4,
  "nbformat_minor": 5
}